{
 "cells": [
  {
   "cell_type": "code",
   "execution_count": 20,
   "id": "7ad05791",
   "metadata": {},
   "outputs": [],
   "source": [
    "#AIM------------------------\n",
    "#TRY TO REACH TOP OF EIFFEL TOWER (60 STEPS , CANNOT GO BELOW STEP 0) IN 50 ROLLS OF DICE OF SNAKES AND LADDERS\n",
    "#WE TRY THIS GAME 500 TIMES AND PLOT OUR MAX SCORE IN GRAPH/HISTOGRAM\n",
    "\n",
    "\n",
    "#RULES----------------------\n",
    "#THROW DICE---\n",
    "#If dice is 1 or 2, you go one step down.\n",
    "#if dice is 3, 4 or 5, you go one step up.\n",
    "#Else, you throw the dice again. The number of eyes is the number of steps you go up.\n",
    "\n",
    "\n",
    "#SNAKE BITE---\n",
    "#ELEMENT OF CLUMSINESS / SNAKE BITE IS 1% , SENDS BACK TO STEP 0 ."
   ]
  },
  {
   "cell_type": "code",
   "execution_count": 21,
   "id": "4c610cd9",
   "metadata": {},
   "outputs": [],
   "source": [
    "# numpy and matplotlib imported, seed set\n",
    "import numpy as np\n",
    "import matplotlib.pyplot as plt\n",
    "np.random.seed(123)"
   ]
  },
  {
   "cell_type": "code",
   "execution_count": 22,
   "id": "d4c59b47",
   "metadata": {},
   "outputs": [],
   "source": [
    "# Simulate random walk 500 times\n",
    "all_walks = []\n",
    "for i in range(500) :\n",
    "    random_walk = [0]\n",
    "    for x in range(50) :                   #CHANGED FROM 100\n",
    "        step = random_walk[-1]\n",
    "        dice = np.random.randint(1,7)\n",
    "        if dice <= 2:\n",
    "            step = max(0, step - 1)\n",
    "        elif dice <= 5:\n",
    "            step = step + 1\n",
    "          #  step = min(60, step + 1)\n",
    "        else:\n",
    "            step = step + np.random.randint(1,7)\n",
    "        if np.random.rand() <= 0.01 :     #ELEMENT OF CLUMSINESS / SNAKE BITE CHANGED TO 1%\n",
    "            step = 0\n",
    "        random_walk.append(min(step,60))  #ADDED MAX HEIGHT TO BE 60\n",
    "    all_walks.append(random_walk)\n",
    "\n"
   ]
  },
  {
   "cell_type": "code",
   "execution_count": 23,
   "id": "881f535d",
   "metadata": {},
   "outputs": [
    {
     "data": {
      "image/png": "[encoded data removed]",
      "text/plain": [
       "<Figure size 432x288 with 1 Axes>"
      ]
     },
     "metadata": {
      "needs_background": "light"
     },
     "output_type": "display_data"
    }
   ],
   "source": [
    "# Create and plot np_aw_t\n",
    "np_aw_t = np.transpose(np.array(all_walks))\n",
    "\n",
    "# Select last row from np_aw_t: ends\n",
    "ends = np_aw_t[-1,:]\n",
    "\n",
    "# Plot histogram of ends, display plot\n",
    "plt.hist(ends)\n",
    "plt.title(\"RESULT OF PLAYING GAME 500 TIMES\")\n",
    "plt.xlabel(\"STEPS/SCORE REACHED\")\n",
    "plt.ylabel('NO OF TIMES ACHIEVED')\n",
    "plt.show()"
   ]
  },
  {
   "cell_type": "code",
   "execution_count": null,
   "id": "f804e46f",
   "metadata": {},
   "outputs": [],
   "source": []
  }
 ],
 "metadata": {
  "kernelspec": {
   "display_name": "Python 3",
   "language": "python",
   "name": "python3"
  },
  "language_info": {
   "codemirror_mode": {
    "name": "ipython",
    "version": 3
   },
   "file_extension": ".py",
   "mimetype": "text/x-python",
   "name": "python",
   "nbconvert_exporter": "python",
   "pygments_lexer": "ipython3",
   "version": "3.8.8"
  }
 },
 "nbformat": 4,
 "nbformat_minor": 5
}
